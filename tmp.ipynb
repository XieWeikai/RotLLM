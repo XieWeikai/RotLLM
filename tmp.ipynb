{
 "cells": [
  {
   "cell_type": "code",
   "execution_count": null,
   "metadata": {},
   "outputs": [],
   "source": [
    "from torchao.quantization.prototype.qat import Int8DynActInt4WeightQATQuantizer"
   ]
  },
  {
   "cell_type": "code",
   "execution_count": null,
   "metadata": {},
   "outputs": [],
   "source": [
    "import torch\n",
    "from transformers import AutoModelForCausalLM, AutoTokenizer\n",
    "\n",
    "path = \"/data/share/Qwen2.5-1.5B-Instruct\"\n",
    "\n",
    "device = \"cuda:7\"\n",
    "dtype = torch.bfloat16\n",
    "\n",
    "tok = AutoTokenizer.from_pretrained(path)\n",
    "model = AutoModelForCausalLM.from_pretrained(path, device_map=device, torch_dtype=dtype)\n",
    "model = model.eval()"
   ]
  },
  {
   "cell_type": "code",
   "execution_count": null,
   "metadata": {},
   "outputs": [],
   "source": [
    "from datasets import load_dataset\n",
    "from data_utils import CustomJsonDataset\n",
    "\n",
    "calibration_datasets = load_dataset(\"parquet\", data_files=\"/data/shrelic/other/QwenSpinQuant/wikitext-raw-vl.parquet\")\n",
    "\n",
    "data = CustomJsonDataset(\n",
    "    calibration_datasets[\"train\"],\n",
    "    tok,\n",
    "    block_size=500,\n",
    ")\n",
    "\n",
    "for d in data:\n",
    "    break\n",
    "\n",
    "inp = {\"input_ids\": torch.tensor(d[\"input_ids\"]).unsqueeze(0).to(device)}"
   ]
  },
  {
   "cell_type": "code",
   "execution_count": null,
   "metadata": {},
   "outputs": [],
   "source": [
    "with torch.no_grad():\n",
    "    res = model(**inp, output_hidden_states=True)"
   ]
  },
  {
   "cell_type": "code",
   "execution_count": null,
   "metadata": {},
   "outputs": [],
   "source": [
    "import numpy as np\n",
    "\n",
    "layer = 4\n",
    "\n",
    "data = res.hidden_states[layer].view(-1, res.hidden_states[10].size(-1))[1:, :].to(device=\"cpu\", dtype=torch.float32).numpy()\n",
    "max = 17\n",
    "data = np.clip(data, -max, max)\n",
    "import draw\n",
    "\n",
    "# draw.plot_heat_map(data, 200, 100)\n",
    "draw.plot_3d_bar_chart(data, show=False)\n",
    "# draw.plot_3d_bar_chart_fast(data, show=True)"
   ]
  },
  {
   "cell_type": "code",
   "execution_count": null,
   "metadata": {},
   "outputs": [],
   "source": [
    "import numpy as np\n",
    "import draw\n",
    "\n",
    "layer = 4\n",
    "\n",
    "X = res.hidden_states[layer].view(-1, res.hidden_states[10].size(-1))[1:, :]\n",
    "\n",
    "def heat_map_clip(X, max=17):\n",
    "    X = X.to(device=\"cpu\", dtype=torch.float32).numpy()\n",
    "    X = np.clip(X, -max, max)\n",
    "    draw.plot_heat_map(X, 200, 100)\n",
    "\n",
    "heat_map_clip(X)"
   ]
  },
  {
   "cell_type": "code",
   "execution_count": null,
   "metadata": {},
   "outputs": [],
   "source": [
    "from rotation_utils import get_orthogonal_matrix\n",
    "\n",
    "R = get_orthogonal_matrix(model.config.hidden_size, mode=\"hadamard\", device=device)"
   ]
  },
  {
   "cell_type": "code",
   "execution_count": null,
   "metadata": {},
   "outputs": [],
   "source": [
    "X_rot = (X.to(R.dtype) @ R).to(dtype)\n",
    "\n",
    "heat_map_clip(X_rot)"
   ]
  },
  {
   "cell_type": "code",
   "execution_count": null,
   "metadata": {},
   "outputs": [],
   "source": [
    "bin = torch.load(\"../QwenSpinQuant/output_rotation/R.bin\")\n",
    "R_train = bin[\"R1\"].to(device)"
   ]
  },
  {
   "cell_type": "code",
   "execution_count": null,
   "metadata": {},
   "outputs": [],
   "source": [
    "X_rot_train = (X.to(R_train.dtype) @ R_train).to(dtype)\n",
    "heat_map_clip(X_rot_train)"
   ]
  },
  {
   "cell_type": "code",
   "execution_count": null,
   "metadata": {},
   "outputs": [],
   "source": []
  },
  {
   "cell_type": "code",
   "execution_count": null,
   "metadata": {},
   "outputs": [],
   "source": []
  },
  {
   "cell_type": "code",
   "execution_count": null,
   "metadata": {},
   "outputs": [],
   "source": []
  },
  {
   "cell_type": "code",
   "execution_count": null,
   "metadata": {},
   "outputs": [],
   "source": []
  },
  {
   "cell_type": "code",
   "execution_count": null,
   "metadata": {},
   "outputs": [],
   "source": [
    "import torch\n",
    "from transformers import Qwen2ForCausalLM\n",
    "from transformers import Qwen2VLForConditionalGeneration, AutoTokenizer, AutoProcessor\n",
    "from qwen_vl_utils import process_vision_info\n",
    "\n",
    "model_path = \"/data/share/Qwen2-VL-2B-Instruct\"\n",
    "\n",
    "dtype = torch.bfloat16\n",
    "device = \"cuda:7\"\n",
    "\n",
    "# default: Load the model on the available device(s)\n",
    "# model = Qwen2VLForConditionalGeneration.from_pretrained(\n",
    "#     model_path, torch_dtype=dtype, device_map=device\n",
    "# )\n",
    "\n",
    "# We recommend enabling flash_attention_2 for better acceleration and memory saving, especially in multi-image and video scenarios.\n",
    "model = Qwen2VLForConditionalGeneration.from_pretrained(\n",
    "    model_path,\n",
    "    torch_dtype=dtype,\n",
    "    attn_implementation=\"flash_attention_2\",\n",
    "    device_map=device,\n",
    ")\n",
    "\n",
    "# default processer\n",
    "# processor = AutoProcessor.from_pretrained(model_path)\n",
    "\n",
    "# The default range for the number of visual tokens per image in the model is 4-16384. You can set min_pixels and max_pixels according to your needs, such as a token count range of 256-1280, to balance speed and memory usage.\n",
    "min_pixels = 256*28*28\n",
    "max_pixels = 1280*28*28\n",
    "processor = AutoProcessor.from_pretrained(model_path, min_pixels=min_pixels, max_pixels=max_pixels, use_fast=False)\n",
    "\n",
    "messages = [\n",
    "    {\n",
    "        \"role\": \"user\",\n",
    "        \"content\": [\n",
    "            {\n",
    "                \"type\": \"image\",\n",
    "                \"image\": \"./aniya.png\",\n",
    "            },\n",
    "            {\"type\": \"text\", \"text\": \"Describe this image.\"},\n",
    "        ],\n",
    "    }\n",
    "]\n",
    "\n",
    "# Preparation for inference\n",
    "text = processor.apply_chat_template(\n",
    "    messages, tokenize=False, add_generation_prompt=True\n",
    ")\n",
    "image_inputs, video_inputs = process_vision_info(messages)\n",
    "inputs = processor(\n",
    "    text=[text],\n",
    "    images=image_inputs,\n",
    "    videos=video_inputs,\n",
    "    padding=True,\n",
    "    return_tensors=\"pt\",\n",
    ")\n",
    "\n",
    "# Inference: Generation of the output\n",
    "generated_ids = model.generate(**inputs, max_new_tokens=128)\n",
    "generated_ids_trimmed = [\n",
    "    out_ids[len(in_ids) :] for in_ids, out_ids in zip(inputs.input_ids, generated_ids)\n",
    "]\n",
    "output_text = processor.batch_decode(\n",
    "    generated_ids_trimmed, skip_special_tokens=True, clean_up_tokenization_spaces=False\n",
    ")\n",
    "print(output_text)"
   ]
  },
  {
   "cell_type": "code",
   "execution_count": null,
   "metadata": {},
   "outputs": [],
   "source": [
    "import qwen_utils\n",
    "import rotation_utils\n",
    "\n",
    "qwen_utils.untie_word_embeddings(model)\n",
    "qwen_utils.fuse_layer_norms(model)\n",
    "\n",
    "# Inference: Generation of the output\n",
    "generated_ids = model.generate(**inputs, max_new_tokens=128)\n",
    "generated_ids_trimmed = [\n",
    "    out_ids[len(in_ids) :] for in_ids, out_ids in zip(inputs.input_ids, generated_ids)\n",
    "]\n",
    "output_text = processor.batch_decode(\n",
    "    generated_ids_trimmed, skip_special_tokens=True, clean_up_tokenization_spaces=False\n",
    ")\n",
    "print(output_text)"
   ]
  },
  {
   "cell_type": "code",
   "execution_count": null,
   "metadata": {},
   "outputs": [],
   "source": [
    "dim = model.config.hidden_size\n",
    "num_heads = model.config.num_attention_heads\n",
    "head_dim = dim // num_heads\n",
    "R = rotation_utils.get_orthogonal_matrix(dim, mode=\"hadamard\", device=device)\n",
    "R_v = rotation_utils.get_orthogonal_matrix(head_dim, mode=\"hadamard\", device=device)\n",
    "# R = [rotation_utils.get_orthogonal_matrix(dim, mode=\"hadamard\", device=device) for _ in range(2 * model.config.num_hidden_layers + 1)]\n",
    "# R_v = [rotation_utils.get_orthogonal_matrix(head_dim, mode=\"hadamard\", device=device) for _ in range(model.config.num_hidden_layers)]\n",
    "\n",
    "qwen_utils.rotate_model(model, R, R_v)\n",
    "with torch.no_grad():\n",
    "    generated_ids = model.generate(**inputs, max_new_tokens=128)\n",
    "    generated_ids_trimmed = [\n",
    "        out_ids[len(in_ids) :] for in_ids, out_ids in zip(inputs.input_ids, generated_ids)\n",
    "    ]\n",
    "    output_text = processor.batch_decode(\n",
    "        generated_ids_trimmed, skip_special_tokens=True, clean_up_tokenization_spaces=False\n",
    "    )\n",
    "    print(output_text)"
   ]
  },
  {
   "cell_type": "code",
   "execution_count": null,
   "metadata": {},
   "outputs": [],
   "source": [
    "model.save_pretrained(model_path + \"-rotated\")"
   ]
  },
  {
   "cell_type": "code",
   "execution_count": null,
   "metadata": {},
   "outputs": [],
   "source": []
  },
  {
   "cell_type": "code",
   "execution_count": null,
   "metadata": {},
   "outputs": [],
   "source": []
  },
  {
   "cell_type": "code",
   "execution_count": null,
   "metadata": {},
   "outputs": [],
   "source": []
  },
  {
   "cell_type": "code",
   "execution_count": null,
   "metadata": {},
   "outputs": [],
   "source": [
    "import torch\n",
    "from transformers import Qwen2VLForConditionalGeneration\n",
    "\n",
    "model_path = \"/data/share/Qwen2-VL-2B-Instruct\"\n",
    "\n",
    "dtype = torch.bfloat16\n",
    "device = \"cuda:7\"\n",
    "\n",
    "# default: Load the model on the available device(s)\n",
    "# model = Qwen2VLForConditionalGeneration.from_pretrained(\n",
    "#     model_path, torch_dtype=dtype, device_map=device\n",
    "# )\n",
    "\n",
    "# We recommend enabling flash_attention_2 for better acceleration and memory saving, especially in multi-image and video scenarios.\n",
    "model = Qwen2VLForConditionalGeneration.from_pretrained(\n",
    "    model_path,\n",
    "    torch_dtype=dtype,\n",
    "    attn_implementation=\"flash_attention_2\",\n",
    "    device_map=device,\n",
    ")\n",
    "\n",
    "\n",
    "input_ids = torch.Tensor([[8948]]).to(device=device, dtype=torch.long)\n",
    "\n",
    "with torch.no_grad():\n",
    "    res = model(input_ids=input_ids, output_hidden_states=True)\n",
    "\n",
    "hidden_states = res.hidden_states"
   ]
  },
  {
   "cell_type": "code",
   "execution_count": null,
   "metadata": {},
   "outputs": [],
   "source": []
  },
  {
   "cell_type": "code",
   "execution_count": null,
   "metadata": {},
   "outputs": [],
   "source": []
  },
  {
   "cell_type": "code",
   "execution_count": null,
   "metadata": {},
   "outputs": [],
   "source": []
  },
  {
   "cell_type": "code",
   "execution_count": null,
   "metadata": {},
   "outputs": [],
   "source": [
    "import torch\n",
    "from transformers import Qwen2ForCausalLM\n",
    "from transformers import Qwen2VLForConditionalGeneration, AutoTokenizer, AutoProcessor\n",
    "from qwen_vl_utils import process_vision_info\n",
    "\n",
    "# model_path = \"/data/share/Qwen2-VL-2B-Instruct\"\n",
    "model_path = \"/data/share/ShowUI-2B\"\n",
    "\n",
    "dtype = torch.bfloat16\n",
    "device = \"cuda:7\"\n",
    "\n",
    "# default: Load the model on the available device(s)\n",
    "# model = Qwen2VLForConditionalGeneration.from_pretrained(\n",
    "#     model_path, torch_dtype=dtype, device_map=device\n",
    "# )\n",
    "\n",
    "# We recommend enabling flash_attention_2 for better acceleration and memory saving, especially in multi-image and video scenarios.\n",
    "model = Qwen2VLForConditionalGeneration.from_pretrained(\n",
    "    model_path,\n",
    "    torch_dtype=dtype,\n",
    "    attn_implementation=\"flash_attention_2\",\n",
    "    device_map=device,\n",
    ")\n",
    "\n",
    "print(model.lm_head.weight)\n",
    "\n",
    "import qwen_utils\n",
    "import rotation_utils\n",
    "\n",
    "qwen_utils.untie_word_embeddings(model)\n",
    "qwen_utils.fuse_layer_norms(model)\n",
    "\n",
    "dim = model.config.hidden_size\n",
    "num_heads = model.config.num_attention_heads\n",
    "head_dim = dim // num_heads\n",
    "R = rotation_utils.get_orthogonal_matrix(dim, mode=\"hadamard\", device=device)\n",
    "R_v = rotation_utils.get_orthogonal_matrix(head_dim, mode=\"hadamard\", device=device)\n",
    "\n",
    "qwen_utils.rotate_model(model, R, R_v)\n",
    "print(model.lm_head.weight)\n",
    "\n",
    "model.save_pretrained(model_path + \"-rotated\")"
   ]
  },
  {
   "cell_type": "code",
   "execution_count": null,
   "metadata": {},
   "outputs": [],
   "source": []
  },
  {
   "cell_type": "code",
   "execution_count": null,
   "metadata": {},
   "outputs": [],
   "source": []
  },
  {
   "cell_type": "code",
   "execution_count": null,
   "metadata": {},
   "outputs": [],
   "source": []
  },
  {
   "cell_type": "code",
   "execution_count": null,
   "metadata": {},
   "outputs": [],
   "source": []
  },
  {
   "cell_type": "code",
   "execution_count": null,
   "metadata": {},
   "outputs": [],
   "source": []
  },
  {
   "cell_type": "code",
   "execution_count": null,
   "metadata": {},
   "outputs": [],
   "source": [
    "import torch\n",
    "from torch import nn\n",
    "import hadamard_utils\n",
    "import rotation_utils\n",
    "import torch\n",
    "from transformers import AutoModelForCausalLM, AutoTokenizer\n",
    "\n",
    "path = \"/data/share/Qwen2.5-1.5B-Instruct\"\n",
    "\n",
    "device = \"cuda:7\"\n",
    "dtype = torch.bfloat16\n",
    "\n",
    "tok = AutoTokenizer.from_pretrained(path)\n",
    "model = AutoModelForCausalLM.from_pretrained(path, device_map=device, torch_dtype=dtype)\n",
    "model = model.eval()"
   ]
  },
  {
   "cell_type": "code",
   "execution_count": null,
   "metadata": {},
   "outputs": [],
   "source": [
    "chat = [\n",
    "    {\n",
    "        \"role\": \"system\",\n",
    "        \"content\": \"You are a helpful assistant.\"\n",
    "    },\n",
    "    {\n",
    "        \"role\": \"user\",\n",
    "        \"content\": \"What is the capital of France?\"\n",
    "    }\n",
    "]\n",
    "\n",
    "prompt = tok.apply_chat_template(chat, tokenize=False, add_generation_prompt=True)\n",
    "inputs = tok(\n",
    "    prompt,\n",
    "    padding=True,\n",
    "    return_tensors=\"pt\",\n",
    ")\n",
    "inputs = inputs.to(device=device)\n",
    "output = model.generate(**inputs, max_new_tokens=128)\n",
    "text = tok.batch_decode(output)\n",
    "print(text[0])"
   ]
  },
  {
   "cell_type": "code",
   "execution_count": null,
   "metadata": {},
   "outputs": [],
   "source": [
    "intermediate_size = model.config.intermediate_size\n",
    "hadamard_up = rotation_utils.get_orthogonal_matrix(intermediate_size, mode=\"hadamard\", device=device)\n",
    "hadamard_gate = rotation_utils.get_orthogonal_matrix(intermediate_size, mode=\"hadamard\", device=device)\n",
    "hadamard_down = rotation_utils.get_orthogonal_matrix(intermediate_size, mode=\"hadamard\", device=device)"
   ]
  },
  {
   "cell_type": "code",
   "execution_count": null,
   "metadata": {},
   "outputs": [],
   "source": [
    "from transformers.models.qwen2.modeling_qwen2 import Qwen2MLP\n",
    "\n",
    "class MLPWrapper(nn.Module):\n",
    "    def __init__(self, mlp: Qwen2MLP, \n",
    "                 hadamard_up: torch.Tensor, \n",
    "                 hadamard_gate: torch.Tensor,\n",
    "                 hadamard_down: torch.Tensor = None):\n",
    "        super(MLPWrapper, self).__init__()\n",
    "        self.mlp = mlp\n",
    "        rotation_utils.rotate_linear_output([mlp.up_proj], hadamard_up)\n",
    "        rotation_utils.rotate_linear_output([mlp.gate_proj], hadamard_gate)\n",
    "        # assuming all weights are on the same device\n",
    "        self.device = mlp.up_proj.weight.device\n",
    "        self.dtype = mlp.up_proj.weight.dtype\n",
    "        \n",
    "        self.register_buffer(\"hadamard_up_T\", hadamard_up.T.to(self.device, dtype=self.dtype))\n",
    "        self.register_buffer(\"hadamard_gate_T\", hadamard_gate.T.to(self.device, dtype=self.dtype))\n",
    "        \n",
    "        self.rotate_down = True if hadamard_down is not None else False\n",
    "        if self.rotate_down:\n",
    "            rotation_utils.rotate_linear_input([mlp.down_proj], hadamard_down.T)\n",
    "            self.register_buffer(\"hadamard_down\", hadamard_down.to(self.device, dtype=self.dtype))\n",
    "        \n",
    "\n",
    "    def forward(self, x):\n",
    "        up = self.mlp.up_proj(x)\n",
    "        gate = self.mlp.gate_proj(x)\n",
    "        \n",
    "        # rotate back\n",
    "        up = up @ self.hadamard_up_T\n",
    "        gate = gate @ self.hadamard_gate_T\n",
    "        \n",
    "        gated_output = up * self.mlp.act_fn(gate)\n",
    "        \n",
    "        if self.rotate_down:\n",
    "            # rotate\n",
    "            gated_output = gated_output @ self.hadamard_down\n",
    "        \n",
    "        return self.mlp.down_proj(gated_output)\n",
    "    \n",
    "\n",
    "wrapped_mlp = MLPWrapper(model.model.layers[1].mlp, hadamard_up, hadamard_gate, hadamard_down)\n",
    "model.model.layers[1].mlp = wrapped_mlp"
   ]
  },
  {
   "cell_type": "code",
   "execution_count": null,
   "metadata": {},
   "outputs": [],
   "source": [
    "output = model.generate(**inputs, max_new_tokens=128)\n",
    "text = tok.batch_decode(output)\n",
    "print(text[0])"
   ]
  },
  {
   "cell_type": "code",
   "execution_count": null,
   "metadata": {},
   "outputs": [],
   "source": []
  },
  {
   "cell_type": "code",
   "execution_count": null,
   "metadata": {},
   "outputs": [],
   "source": []
  },
  {
   "cell_type": "code",
   "execution_count": null,
   "metadata": {},
   "outputs": [],
   "source": [
    "import torch\n",
    "from torch import nn\n",
    "\n",
    "class ToyModel(torch.nn.Module):\n",
    "    def __init__(self, input_size, output_size, intermediate_size):\n",
    "        super(ToyModel, self).__init__()\n",
    "        self.up = torch.nn.Linear(input_size, intermediate_size)\n",
    "        self.down = torch.nn.Linear(intermediate_size, output_size)\n",
    "        self.activation = torch.nn.ReLU()\n",
    "        \n",
    "    def forward(self, x):\n",
    "        x = self.up(x)\n",
    "        x = self.activation(x)\n",
    "        x = self.down(x)\n",
    "        return x\n",
    "    \n",
    "\n",
    "def forward_hook(module, input, output):\n",
    "    # Print the shape of the input and output tensors\n",
    "    print(f\"Input shape: {input[0].shape}\")\n",
    "    print(f\"Output shape: {output.shape}\")\n",
    "\n",
    "# Create a toy model\n",
    "in_dim = 10\n",
    "out_dim = 5\n",
    "intermediate_dim = 20\n",
    "model = ToyModel(in_dim, out_dim, intermediate_dim)\n",
    "# Register the forward hook for up layer\n",
    "handler = model.up.register_forward_hook(forward_hook)\n",
    "\n",
    "# Create a random input tensor\n",
    "input_tensor = torch.randn(1, in_dim)\n",
    "# Forward pass through the model\n",
    "output = model(input_tensor)\n",
    "print(output)"
   ]
  },
  {
   "cell_type": "code",
   "execution_count": null,
   "metadata": {},
   "outputs": [],
   "source": [
    "class ScaleLinearWrapper(torch.nn.Module):\n",
    "    def __init__(self, linear_layer, scale):\n",
    "        super(ScaleLinearWrapper, self).__init__()\n",
    "        self.linear_layer = linear_layer\n",
    "        self.scale = scale\n",
    "\n",
    "    def forward(self, x):\n",
    "        return self.linear_layer(x) * self.scale"
   ]
  },
  {
   "cell_type": "code",
   "execution_count": null,
   "metadata": {},
   "outputs": [],
   "source": [
    "# wrap the up layer\n",
    "scale = 0.5\n",
    "wrapped_up = ScaleLinearWrapper(model.up, scale)\n",
    "model.up = wrapped_up\n",
    "\n",
    "output = model(input_tensor)\n",
    "print(output)"
   ]
  },
  {
   "cell_type": "code",
   "execution_count": null,
   "metadata": {},
   "outputs": [],
   "source": []
  }
 ],
 "metadata": {
  "kernelspec": {
   "display_name": "Python 3",
   "language": "python",
   "name": "python3"
  },
  "language_info": {
   "codemirror_mode": {
    "name": "ipython",
    "version": 3
   },
   "file_extension": ".py",
   "mimetype": "text/x-python",
   "name": "python",
   "nbconvert_exporter": "python",
   "pygments_lexer": "ipython3",
   "version": "3.12.5"
  }
 },
 "nbformat": 4,
 "nbformat_minor": 2
}
